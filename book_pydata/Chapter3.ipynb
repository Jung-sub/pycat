{
 "metadata": {
  "name": ""
 },
 "nbformat": 3,
 "nbformat_minor": 0,
 "worksheets": [
  {
   "cells": [
    {
     "cell_type": "markdown",
     "metadata": {},
     "source": [
      "# Python for Data Analysis"
     ]
    },
    {
     "cell_type": "code",
     "collapsed": false,
     "input": [
      "a = 5"
     ],
     "language": "python",
     "metadata": {},
     "outputs": [],
     "prompt_number": 1
    },
    {
     "cell_type": "code",
     "collapsed": false,
     "input": [
      "a"
     ],
     "language": "python",
     "metadata": {},
     "outputs": [
      {
       "metadata": {},
       "output_type": "pyout",
       "prompt_number": 2,
       "text": [
        "5"
       ]
      }
     ],
     "prompt_number": 2
    },
    {
     "cell_type": "code",
     "collapsed": false,
     "input": [
      "from numpy.random import randn\n",
      "\n",
      "data = {i: randn() for i in range(7)}"
     ],
     "language": "python",
     "metadata": {},
     "outputs": [],
     "prompt_number": 3
    },
    {
     "cell_type": "code",
     "collapsed": false,
     "input": [
      "data"
     ],
     "language": "python",
     "metadata": {},
     "outputs": [
      {
       "metadata": {},
       "output_type": "pyout",
       "prompt_number": 4,
       "text": [
        "{0: -0.8303143993253177,\n",
        " 1: 0.007709156630548495,\n",
        " 2: -1.3694307776679455,\n",
        " 3: -2.014319864623782,\n",
        " 4: -0.5283393591830347,\n",
        " 5: -1.6901129233649643,\n",
        " 6: -1.0771596177318061}"
       ]
      }
     ],
     "prompt_number": 4
    },
    {
     "cell_type": "code",
     "collapsed": false,
     "input": [
      "print data"
     ],
     "language": "python",
     "metadata": {},
     "outputs": [
      {
       "output_type": "stream",
       "stream": "stdout",
       "text": [
        "{0: -0.8303143993253177, 1: 0.007709156630548495, 2: -1.3694307776679455, 3: -2.014319864623782, 4: -0.5283393591830347, 5: -1.6901129233649643, 6: -1.0771596177318061}\n"
       ]
      }
     ],
     "prompt_number": 5
    },
    {
     "cell_type": "markdown",
     "metadata": {},
     "source": [
      "    <Tab>"
     ]
    },
    {
     "cell_type": "code",
     "collapsed": false,
     "input": [
      "b = [1,2,3]"
     ],
     "language": "python",
     "metadata": {},
     "outputs": [],
     "prompt_number": 6
    },
    {
     "cell_type": "code",
     "collapsed": false,
     "input": [
      "b?"
     ],
     "language": "python",
     "metadata": {},
     "outputs": [],
     "prompt_number": 7
    },
    {
     "cell_type": "markdown",
     "metadata": {},
     "source": [
      "    #\n",
      "    Type:       list\n",
      "    String Form:[1, 2, 3]\n",
      "    Length:     3\n",
      "    Docstring:\n",
      "    list() -> new empty list\n",
      "    list(iterable) -> new list initialized from iterable's items"
     ]
    },
    {
     "cell_type": "code",
     "collapsed": false,
     "input": [
      "def add_numbers(a, b):\n",
      "    \"\"\"\n",
      "    docstring\n",
      "    \"\"\"\n",
      "    return a+b"
     ],
     "language": "python",
     "metadata": {},
     "outputs": [],
     "prompt_number": 8
    },
    {
     "cell_type": "code",
     "collapsed": false,
     "input": [
      "add_numbers?"
     ],
     "language": "python",
     "metadata": {},
     "outputs": [],
     "prompt_number": 9
    },
    {
     "cell_type": "markdown",
     "metadata": {},
     "source": [
      "    #\n",
      "    Type:       function\n",
      "    String Form:<function add_numbers at 0x10d018230>\n",
      "    File:       pycat/book_pydata/<ipython-input-8-51d92fc22213>\n",
      "    Definition: add_numbers(a, b)\n",
      "    Docstring:  docstring"
     ]
    },
    {
     "cell_type": "code",
     "collapsed": false,
     "input": [
      "add_numbers??"
     ],
     "language": "python",
     "metadata": {},
     "outputs": [],
     "prompt_number": 10
    },
    {
     "cell_type": "markdown",
     "metadata": {},
     "source": [
      "    #\n",
      "    Type:       function\n",
      "    String Form:<function add_numbers at 0x10d018230>\n",
      "    File:       pycat/book_pydata/<ipython-input-8-51d92fc22213>\n",
      "    Definition: add_numbers(a, b)\n",
      "    Source:\n",
      "    def add_numbers(a, b):\n",
      "        \"\"\"\n",
      "        docstring\n",
      "        \"\"\"\n",
      "        return a+b"
     ]
    },
    {
     "cell_type": "code",
     "collapsed": false,
     "input": [
      "np.*load*?"
     ],
     "language": "python",
     "metadata": {},
     "outputs": [],
     "prompt_number": 12
    },
    {
     "cell_type": "markdown",
     "metadata": {},
     "source": [
      "    #\n",
      "    np.load\n",
      "    np.loads\n",
      "    np.loadtxt\n",
      "    np.pkgload"
     ]
    },
    {
     "cell_type": "code",
     "collapsed": false,
     "input": [
      "# ipython_script_test.py\n",
      "\n",
      "def f(x, y, z):\n",
      "    return (x + y) / z\n",
      "\n",
      "a, b, c = 5, 6, 7.5\n",
      "\n",
      "result = f(a, b, c)"
     ],
     "language": "python",
     "metadata": {},
     "outputs": [],
     "prompt_number": 13
    },
    {
     "cell_type": "markdown",
     "metadata": {},
     "source": [
      "    #\n",
      "    %run ipython_script_test.py"
     ]
    },
    {
     "cell_type": "code",
     "collapsed": false,
     "input": [
      "c"
     ],
     "language": "python",
     "metadata": {},
     "outputs": [
      {
       "metadata": {},
       "output_type": "pyout",
       "prompt_number": 14,
       "text": [
        "7.5"
       ]
      }
     ],
     "prompt_number": 14
    },
    {
     "cell_type": "code",
     "collapsed": false,
     "input": [
      "result"
     ],
     "language": "python",
     "metadata": {},
     "outputs": [
      {
       "metadata": {},
       "output_type": "pyout",
       "prompt_number": 15,
       "text": [
        "1.4666666666666666"
       ]
      }
     ],
     "prompt_number": 15
    },
    {
     "cell_type": "markdown",
     "metadata": {},
     "source": [
      "    %paste\n",
      "    %cpaste"
     ]
    },
    {
     "cell_type": "code",
     "collapsed": false,
     "input": [
      "a = np.random.randn(100, 100)"
     ],
     "language": "python",
     "metadata": {},
     "outputs": [],
     "prompt_number": 16
    },
    {
     "cell_type": "code",
     "collapsed": false,
     "input": [
      "%timeit np.dot(a, a)"
     ],
     "language": "python",
     "metadata": {},
     "outputs": [
      {
       "output_type": "stream",
       "stream": "stdout",
       "text": [
        "10000 loops, best of 3: 88.8 \u00b5s per loop\n"
       ]
      }
     ],
     "prompt_number": 17
    },
    {
     "cell_type": "code",
     "collapsed": false,
     "input": [
      "%reset?"
     ],
     "language": "python",
     "metadata": {},
     "outputs": [],
     "prompt_number": 18
    },
    {
     "cell_type": "markdown",
     "metadata": {},
     "source": [
      "    #\n",
      "    Type:       Magic function\n",
      "    String Form:<bound method NamespaceMagics.reset of <IPython.core.magics.namespace.NamespaceMagics object at 0x10ad4f110>>\n",
      "    Namespace:  IPython internal\n",
      "    File:       /Library/Python/2.7/site-packages/IPython/core/magics/namespace.py\n",
      "    Definition: %reset(self, parameter_s='')\n",
      "    Docstring:\n",
      "    Resets the namespace by removing all names defined by the user, if\n",
      "    called without arguments, or by removing some types of objects, such\n",
      "    as everything currently in IPython's In[] and Out[] containers (see\n",
      "    the parameters for details).\n",
      "    \n",
      "    Parameters\n",
      "    ----------\n",
      "    -f : force reset without asking for confirmation.\n",
      "    \n",
      "    -s : 'Soft' reset: Only clears your namespace, leaving history intact.\n",
      "        References to objects may be kept. By default (without this option),\n",
      "        we do a 'hard' reset, giving you a new session and removing all\n",
      "        references to objects from the current session.\n",
      "    \n",
      "    in : reset input history\n",
      "    \n",
      "    out : reset output history\n",
      "    \n",
      "    dhist : reset directory history\n",
      "    \n",
      "    array : reset only variables that are NumPy arrays\n",
      "    \n",
      "    See Also\n",
      "    --------\n",
      "    magic_reset_selective : invoked as ``%reset_selective``\n",
      "    \n",
      "    Examples\n",
      "    --------\n",
      "    ::\n",
      "    \n",
      "      In [6]: a = 1\n",
      "    \n",
      "      In [7]: a\n",
      "      Out[7]: 1\n",
      "    \n",
      "      In [8]: 'a' in _ip.user_ns\n",
      "      Out[8]: True\n",
      "    \n",
      "      In [9]: %reset -f\n",
      "    \n",
      "      In [1]: 'a' in _ip.user_ns\n",
      "      Out[1]: False\n",
      "    \n",
      "      In [2]: %reset -f in\n",
      "      Flushing input history\n",
      "    \n",
      "      In [3]: %reset -f dhist in\n",
      "      Flushing directory history\n",
      "      Flushing input history\n",
      "    \n",
      "    Notes\n",
      "    -----\n",
      "    Calling this magic from clients that do not implement standard input,\n",
      "    such as the ipython notebook interface, will reset the namespace\n",
      "    without confirmation."
     ]
    },
    {
     "cell_type": "code",
     "collapsed": false,
     "input": [
      "2 ** 27"
     ],
     "language": "python",
     "metadata": {},
     "outputs": [
      {
       "metadata": {},
       "output_type": "pyout",
       "prompt_number": 19,
       "text": [
        "134217728"
       ]
      }
     ],
     "prompt_number": 19
    },
    {
     "cell_type": "code",
     "collapsed": false,
     "input": [
      "_"
     ],
     "language": "python",
     "metadata": {},
     "outputs": [
      {
       "metadata": {},
       "output_type": "pyout",
       "prompt_number": 20,
       "text": [
        "134217728"
       ]
      }
     ],
     "prompt_number": 20
    },
    {
     "cell_type": "code",
     "collapsed": false,
     "input": [
      "foo = 'bar'"
     ],
     "language": "python",
     "metadata": {},
     "outputs": [],
     "prompt_number": 21
    },
    {
     "cell_type": "code",
     "collapsed": false,
     "input": [
      "foo"
     ],
     "language": "python",
     "metadata": {},
     "outputs": [
      {
       "metadata": {},
       "output_type": "pyout",
       "prompt_number": 22,
       "text": [
        "'bar'"
       ]
      }
     ],
     "prompt_number": 22
    },
    {
     "cell_type": "code",
     "collapsed": false,
     "input": [
      "_i22"
     ],
     "language": "python",
     "metadata": {},
     "outputs": [
      {
       "metadata": {},
       "output_type": "pyout",
       "prompt_number": 24,
       "text": [
        "u'foo'"
       ]
      }
     ],
     "prompt_number": 24
    },
    {
     "cell_type": "code",
     "collapsed": false,
     "input": [
      "_22"
     ],
     "language": "python",
     "metadata": {},
     "outputs": [
      {
       "metadata": {},
       "output_type": "pyout",
       "prompt_number": 26,
       "text": [
        "'bar'"
       ]
      }
     ],
     "prompt_number": 26
    },
    {
     "cell_type": "code",
     "collapsed": false,
     "input": [
      "exec _i22"
     ],
     "language": "python",
     "metadata": {},
     "outputs": [],
     "prompt_number": 27
    },
    {
     "cell_type": "code",
     "collapsed": false,
     "input": [
      "%logstart"
     ],
     "language": "python",
     "metadata": {},
     "outputs": [
      {
       "output_type": "stream",
       "stream": "stdout",
       "text": [
        "Activating auto-logging. Current session state plus future input saved.\n",
        "Filename       : ipython_log.py\n",
        "Mode           : rotate\n",
        "Output logging : False\n",
        "Raw input log  : False\n",
        "Timestamping   : False\n",
        "State          : active\n"
       ]
      }
     ],
     "prompt_number": 28
    },
    {
     "cell_type": "code",
     "collapsed": false,
     "input": [
      "\"log...\""
     ],
     "language": "python",
     "metadata": {},
     "outputs": [
      {
       "metadata": {},
       "output_type": "pyout",
       "prompt_number": 29,
       "text": [
        "'log...'"
       ]
      }
     ],
     "prompt_number": 29
    },
    {
     "cell_type": "code",
     "collapsed": false,
     "input": [
      "%logstop"
     ],
     "language": "python",
     "metadata": {},
     "outputs": [],
     "prompt_number": 30
    },
    {
     "cell_type": "code",
     "collapsed": false,
     "input": [
      "%alias ll ls -l"
     ],
     "language": "python",
     "metadata": {},
     "outputs": [],
     "prompt_number": 31
    },
    {
     "cell_type": "code",
     "collapsed": false,
     "input": [
      "%bookmark names ch02/names/"
     ],
     "language": "python",
     "metadata": {},
     "outputs": [],
     "prompt_number": 34
    },
    {
     "cell_type": "code",
     "collapsed": false,
     "input": [
      "%bookmark -l"
     ],
     "language": "python",
     "metadata": {},
     "outputs": [
      {
       "output_type": "stream",
       "stream": "stdout",
       "text": [
        "Current bookmarks:\n",
        "names -> ch02/names/\n"
       ]
      }
     ],
     "prompt_number": 35
    },
    {
     "cell_type": "code",
     "collapsed": false,
     "input": [
      "class Message:\n",
      "    def __init__(self, msg):\n",
      "        self.msg = msg"
     ],
     "language": "python",
     "metadata": {},
     "outputs": [],
     "prompt_number": 36
    },
    {
     "cell_type": "code",
     "collapsed": false,
     "input": [
      "x = Message('I have a secret')"
     ],
     "language": "python",
     "metadata": {},
     "outputs": [],
     "prompt_number": 37
    },
    {
     "cell_type": "code",
     "collapsed": false,
     "input": [
      "x"
     ],
     "language": "python",
     "metadata": {},
     "outputs": [
      {
       "metadata": {},
       "output_type": "pyout",
       "prompt_number": 38,
       "text": [
        "<__main__.Message instance at 0x10d4af320>"
       ]
      }
     ],
     "prompt_number": 38
    },
    {
     "cell_type": "code",
     "collapsed": false,
     "input": [
      "class Message:\n",
      "    def __init__(self, msg):\n",
      "        self.msg = msg\n",
      "    def __repr__(self):\n",
      "        return 'Message: %s' % self.msg"
     ],
     "language": "python",
     "metadata": {},
     "outputs": [],
     "prompt_number": 39
    },
    {
     "cell_type": "code",
     "collapsed": false,
     "input": [
      "x"
     ],
     "language": "python",
     "metadata": {},
     "outputs": [
      {
       "metadata": {},
       "output_type": "pyout",
       "prompt_number": 40,
       "text": [
        "<__main__.Message instance at 0x10d4af320>"
       ]
      }
     ],
     "prompt_number": 40
    },
    {
     "cell_type": "code",
     "collapsed": false,
     "input": [
      "x = Message('I have a secret')"
     ],
     "language": "python",
     "metadata": {},
     "outputs": [],
     "prompt_number": 41
    },
    {
     "cell_type": "code",
     "collapsed": false,
     "input": [
      "x"
     ],
     "language": "python",
     "metadata": {},
     "outputs": [
      {
       "metadata": {},
       "output_type": "pyout",
       "prompt_number": 42,
       "text": [
        "Message: I have a secret"
       ]
      }
     ],
     "prompt_number": 42
    },
    {
     "cell_type": "code",
     "collapsed": false,
     "input": [],
     "language": "python",
     "metadata": {},
     "outputs": []
    }
   ],
   "metadata": {}
  }
 ]
}